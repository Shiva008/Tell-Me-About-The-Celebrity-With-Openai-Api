{
 "cells": [
  {
   "cell_type": "code",
   "execution_count": 1,
   "metadata": {},
   "outputs": [],
   "source": [
    "import os\n",
    "from constants import openai_key\n",
    "os.environ[\"OPENAI_API_KEY\"]=openai_key"
   ]
  },
  {
   "cell_type": "code",
   "execution_count": 10,
   "metadata": {},
   "outputs": [
    {
     "data": {
      "text/plain": [
       "'I want to act as acting financial advisor for people.\\nIn an easy way, explain the basics of income tax.'"
      ]
     },
     "execution_count": 10,
     "metadata": {},
     "output_type": "execute_result"
    }
   ],
   "source": [
    "from langchain.prompts import PromptTemplate\n",
    "\n",
    "demo_template='''I want to act as acting financial advisor for people.\n",
    "In an easy way, explain the basics of {financial_concept}.'''\n",
    "\n",
    "Prompt=PromptTemplate(\n",
    "    input_vatiables=['financial_concept'],\n",
    "    template=demo_template\n",
    "    )\n",
    "Prompt.format(financial_concept='income tax')"
   ]
  },
  {
   "cell_type": "code",
   "execution_count": 11,
   "metadata": {},
   "outputs": [],
   "source": [
    "from langchain.llms import OpenAI\n",
    "from langchain.chains import LLMChain\n",
    "\n",
    "llm=OpenAI(temperature=0.7)\n",
    "chain1=LLMChain(llm=llm,prompt=Prompt)\n",
    "\n"
   ]
  },
  {
   "cell_type": "code",
   "execution_count": 12,
   "metadata": {},
   "outputs": [
    {
     "data": {
      "text/plain": [
       "'\\n\\nIncome tax is a tax that is imposed on the income earned by individuals and businesses. It is calculated based on the amount of money you earn in a certain period of time, known as your taxable income.\\n\\nThere are different types of income that are subject to income tax, such as wages, salaries, tips, interest, dividends, rental income, and self-employment income. However, there are also certain types of income that may be exempt from income tax, such as gifts, inheritances, and some types of government benefits.\\n\\nThe amount of income tax you pay is determined by your taxable income and the tax rate for your income bracket. This tax rate can vary based on your filing status, such as single, married filing jointly, or head of household.\\n\\nTo determine your taxable income, you first need to calculate your gross income, which is the total amount of money you earned in a year before any deductions or exemptions. Then, you can subtract any deductions and exemptions you are eligible for, such as charitable donations, mortgage interest, or dependents, to arrive at your taxable income.\\n\\nOnce you have determined your taxable income, you can use the tax rate for your income bracket to calculate your income tax. This is typically done using a tax table or tax calculator provided by'"
      ]
     },
     "execution_count": 12,
     "metadata": {},
     "output_type": "execute_result"
    }
   ],
   "source": [
    "chain1.run('income tax')"
   ]
  },
  {
   "cell_type": "code",
   "execution_count": 13,
   "metadata": {},
   "outputs": [
    {
     "name": "stdout",
     "output_type": "stream",
     "text": [
      "\n",
      "Income tax is a tax on the money that you earn. It is paid to the government and is used to fund public services such as education, healthcare, and infrastructure. The amount of income tax you pay is based on your income, which includes your salary, wages, tips, and any other sources of income. \n",
      "\n",
      "The government sets different tax rates for different levels of income. This means that the more you earn, the more tax you will pay. This is known as a progressive tax system. \n",
      "\n",
      "There are different types of income tax, such as federal, state, and local taxes. These taxes may have different rates and rules, so it is important to understand which ones apply to you. \n",
      "\n",
      "In order to determine how much income tax you owe, you will need to file a tax return with the government. This is a document that reports your income and any deductions or credits you may be eligible for. \n",
      "\n",
      "Deductions are expenses that you can subtract from your income, such as charitable donations, mortgage interest, and certain business expenses. Credits are amounts that directly reduce the tax you owe, such as the child tax credit or education credits. \n",
      "\n",
      "The tax return also takes into account your filing status, which can affect your tax rate. For example, married couples\n"
     ]
    }
   ],
   "source": [
    "print(chain1.run('income tax'))"
   ]
  },
  {
   "cell_type": "code",
   "execution_count": 14,
   "metadata": {},
   "outputs": [
    {
     "name": "stdout",
     "output_type": "stream",
     "text": [
      "\n",
      "\n",
      "GDP, or Gross Domestic Product, is a measure of the total value of all goods and services produced within a country's borders in a specific period of time, usually a year. It is used to measure the overall health and size of a country's economy. GDP includes all goods and services produced by businesses, households, and the government, and can be broken down into different categories such as consumption, investment, government spending, and exports. It is an important indicator of economic growth and can also be used to compare the relative economic strength of different countries.\n"
     ]
    }
   ],
   "source": [
    "print(chain1.run('GDP'))"
   ]
  },
  {
   "cell_type": "code",
   "execution_count": 18,
   "metadata": {},
   "outputs": [
    {
     "data": {
      "text/plain": [
       "\"In a easy way translate the following sentance 'How are you' into hindi \""
      ]
     },
     "execution_count": 18,
     "metadata": {},
     "output_type": "execute_result"
    }
   ],
   "source": [
    "##language Translation\n",
    "\n",
    "from langchain.prompts import PromptTemplate\n",
    "\n",
    "template='''In a easy way translate the following sentance '{sentence}' into {target_language} '''\n",
    "\n",
    "language_prompt = PromptTemplate(\n",
    "    input_variables=[\"sentance\",'target_language'],\n",
    "    template=template\n",
    "    \n",
    ")\n",
    "language_prompt.format(sentence=\"How are you\",target_language='hindi')"
   ]
  },
  {
   "cell_type": "code",
   "execution_count": 19,
   "metadata": {},
   "outputs": [
    {
     "data": {
      "text/plain": [
       "{'sentence': 'Hello How are you',\n",
       " 'target_language': 'Hindi',\n",
       " 'text': '\\n\\nनमस्ते तुम्हारा हाल कैसा है'}"
      ]
     },
     "execution_count": 19,
     "metadata": {},
     "output_type": "execute_result"
    }
   ],
   "source": [
    "chain2=LLMChain(llm=llm,prompt=language_prompt)\n",
    "\n",
    "chain2({'sentence':\"Hello How are you\",'target_language':'Hindi'})\n"
   ]
  },
  {
   "cell_type": "code",
   "execution_count": null,
   "metadata": {},
   "outputs": [],
   "source": [
    " "
   ]
  }
 ],
 "metadata": {
  "kernelspec": {
   "display_name": "Python 3",
   "language": "python",
   "name": "python3"
  },
  "language_info": {
   "codemirror_mode": {
    "name": "ipython",
    "version": 3
   },
   "file_extension": ".py",
   "mimetype": "text/x-python",
   "name": "python",
   "nbconvert_exporter": "python",
   "pygments_lexer": "ipython3",
   "version": "3.10.8"
  }
 },
 "nbformat": 4,
 "nbformat_minor": 2
}
